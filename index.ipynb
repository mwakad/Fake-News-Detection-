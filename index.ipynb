{
 "cells": [
  {
   "cell_type": "code",
   "execution_count": 2,
   "id": "053bf64d-1309-4e7a-9189-dc34fbd6e413",
   "metadata": {},
   "outputs": [],
   "source": [
    "import requests\n",
    "from bs4 import BeautifulSoup\n",
    "import re\n",
    "from urllib.parse import urlparse\n",
    "from datetime import datetime\n",
    "import pandas as pd\n",
    "import time\n",
    "from scraper_utils import scrape_and_enrich\n",
    "import seaborn as sns\n",
    "import matplotlib.pyplot as plt"
   ]
  },
  {
   "cell_type": "markdown",
   "id": "9133ce2d-34b9-4691-a364-586a96f63a63",
   "metadata": {
    "tags": []
   },
   "source": [
    "## Compile Scrapped Data"
   ]
  },
  {
   "cell_type": "markdown",
   "id": "4b081dcb-e666-4f3b-b0cb-d3eb1472a99f",
   "metadata": {},
   "source": [
    "### gossip"
   ]
  },
  {
   "cell_type": "code",
   "execution_count": 3,
   "id": "54e0300e-7c67-4a4f-bfd8-cdddfbaf315f",
   "metadata": {
    "tags": []
   },
   "outputs": [
    {
     "data": {
      "text/html": [
       "<div>\n",
       "<style scoped>\n",
       "    .dataframe tbody tr th:only-of-type {\n",
       "        vertical-align: middle;\n",
       "    }\n",
       "\n",
       "    .dataframe tbody tr th {\n",
       "        vertical-align: top;\n",
       "    }\n",
       "\n",
       "    .dataframe thead th {\n",
       "        text-align: right;\n",
       "    }\n",
       "</style>\n",
       "<table border=\"1\" class=\"dataframe\">\n",
       "  <thead>\n",
       "    <tr style=\"text-align: right;\">\n",
       "      <th></th>\n",
       "      <th>id</th>\n",
       "      <th>news_url</th>\n",
       "      <th>title</th>\n",
       "      <th>tweet_ids</th>\n",
       "      <th>extracted_article_text</th>\n",
       "      <th>news_type</th>\n",
       "      <th>class</th>\n",
       "    </tr>\n",
       "  </thead>\n",
       "  <tbody>\n",
       "    <tr>\n",
       "      <th>0</th>\n",
       "      <td>gossipcop-2493749932</td>\n",
       "      <td>www.dailymail.co.uk/tvshowbiz/article-5874213/...</td>\n",
       "      <td>Did Miley Cyrus and Liam Hemsworth secretly ge...</td>\n",
       "      <td>284329075902926848\\t284332744559968256\\t284335...</td>\n",
       "      <td>By CAITLYN HITT Published: 15:58 BST, 22 June ...</td>\n",
       "      <td>gossip</td>\n",
       "      <td>0</td>\n",
       "    </tr>\n",
       "    <tr>\n",
       "      <th>1</th>\n",
       "      <td>gossipcop-4580247171</td>\n",
       "      <td>hollywoodlife.com/2018/05/05/paris-jackson-car...</td>\n",
       "      <td>Paris Jackson &amp; Cara Delevingne Enjoy Night Ou...</td>\n",
       "      <td>992895508267130880\\t992897935418503169\\t992899...</td>\n",
       "      <td>[Error fetching URL: HTTP error 404 for https:...</td>\n",
       "      <td>gossip</td>\n",
       "      <td>0</td>\n",
       "    </tr>\n",
       "    <tr>\n",
       "      <th>2</th>\n",
       "      <td>gossipcop-941805037</td>\n",
       "      <td>variety.com/2017/biz/news/tax-march-donald-tru...</td>\n",
       "      <td>Celebrities Join Tax March in Protest of Donal...</td>\n",
       "      <td>853359353532829696\\t853359576543920128\\t853359...</td>\n",
       "      <td>By Variety Staff Follow Us on Twitter Thousand...</td>\n",
       "      <td>gossip</td>\n",
       "      <td>0</td>\n",
       "    </tr>\n",
       "    <tr>\n",
       "      <th>3</th>\n",
       "      <td>gossipcop-2547891536</td>\n",
       "      <td>www.dailymail.co.uk/femail/article-3499192/Do-...</td>\n",
       "      <td>Cindy Crawford's daughter Kaia Gerber wears a ...</td>\n",
       "      <td>988821905196158981\\t988824206556172288\\t988825...</td>\n",
       "      <td>By CARLY STERN FOR DAILYMAIL.COM and JJ NATTRA...</td>\n",
       "      <td>gossip</td>\n",
       "      <td>0</td>\n",
       "    </tr>\n",
       "    <tr>\n",
       "      <th>4</th>\n",
       "      <td>gossipcop-5476631226</td>\n",
       "      <td>variety.com/2018/film/news/list-2018-oscar-nom...</td>\n",
       "      <td>Full List of 2018 Oscar Nominations – Variety</td>\n",
       "      <td>955792793632432131\\t955795063925301249\\t955798...</td>\n",
       "      <td>By Variety Staff Follow Us on Twitter Oscar no...</td>\n",
       "      <td>gossip</td>\n",
       "      <td>0</td>\n",
       "    </tr>\n",
       "  </tbody>\n",
       "</table>\n",
       "</div>"
      ],
      "text/plain": [
       "                     id                                           news_url  \\\n",
       "0  gossipcop-2493749932  www.dailymail.co.uk/tvshowbiz/article-5874213/...   \n",
       "1  gossipcop-4580247171  hollywoodlife.com/2018/05/05/paris-jackson-car...   \n",
       "2   gossipcop-941805037  variety.com/2017/biz/news/tax-march-donald-tru...   \n",
       "3  gossipcop-2547891536  www.dailymail.co.uk/femail/article-3499192/Do-...   \n",
       "4  gossipcop-5476631226  variety.com/2018/film/news/list-2018-oscar-nom...   \n",
       "\n",
       "                                               title  \\\n",
       "0  Did Miley Cyrus and Liam Hemsworth secretly ge...   \n",
       "1  Paris Jackson & Cara Delevingne Enjoy Night Ou...   \n",
       "2  Celebrities Join Tax March in Protest of Donal...   \n",
       "3  Cindy Crawford's daughter Kaia Gerber wears a ...   \n",
       "4      Full List of 2018 Oscar Nominations – Variety   \n",
       "\n",
       "                                           tweet_ids  \\\n",
       "0  284329075902926848\\t284332744559968256\\t284335...   \n",
       "1  992895508267130880\\t992897935418503169\\t992899...   \n",
       "2  853359353532829696\\t853359576543920128\\t853359...   \n",
       "3  988821905196158981\\t988824206556172288\\t988825...   \n",
       "4  955792793632432131\\t955795063925301249\\t955798...   \n",
       "\n",
       "                              extracted_article_text news_type  class  \n",
       "0  By CAITLYN HITT Published: 15:58 BST, 22 June ...    gossip      0  \n",
       "1  [Error fetching URL: HTTP error 404 for https:...    gossip      0  \n",
       "2  By Variety Staff Follow Us on Twitter Thousand...    gossip      0  \n",
       "3  By CARLY STERN FOR DAILYMAIL.COM and JJ NATTRA...    gossip      0  \n",
       "4  By Variety Staff Follow Us on Twitter Oscar no...    gossip      0  "
      ]
     },
     "execution_count": 3,
     "metadata": {},
     "output_type": "execute_result"
    }
   ],
   "source": [
    "# Scrapped from gossipcop_fake.csv\n",
    "gossiped_fake = pd.read_csv('./dataset/gossip_fake_with_article_text.csv')\n",
    "gossiped_fake[\"news_type\"] = \"gossip\"\n",
    "gossiped_fake[\"class\"] = 0\n",
    "gossiped_fake.head()"
   ]
  },
  {
   "cell_type": "code",
   "execution_count": 4,
   "id": "e91ebb40-1ac0-472b-b192-f673b827e1db",
   "metadata": {
    "tags": []
   },
   "outputs": [
    {
     "data": {
      "text/html": [
       "<div>\n",
       "<style scoped>\n",
       "    .dataframe tbody tr th:only-of-type {\n",
       "        vertical-align: middle;\n",
       "    }\n",
       "\n",
       "    .dataframe tbody tr th {\n",
       "        vertical-align: top;\n",
       "    }\n",
       "\n",
       "    .dataframe thead th {\n",
       "        text-align: right;\n",
       "    }\n",
       "</style>\n",
       "<table border=\"1\" class=\"dataframe\">\n",
       "  <thead>\n",
       "    <tr style=\"text-align: right;\">\n",
       "      <th></th>\n",
       "      <th>title</th>\n",
       "      <th>extracted_article_text</th>\n",
       "      <th>news_type</th>\n",
       "      <th>class</th>\n",
       "    </tr>\n",
       "  </thead>\n",
       "  <tbody>\n",
       "    <tr>\n",
       "      <th>0</th>\n",
       "      <td>Teen Mom Star Jenelle Evans' Wedding Dress Is ...</td>\n",
       "      <td>91 years of expert advice and inspiration, for...</td>\n",
       "      <td>gossip</td>\n",
       "      <td>1</td>\n",
       "    </tr>\n",
       "    <tr>\n",
       "      <th>1</th>\n",
       "      <td>Kylie Jenner refusing to discuss Tyga on Life ...</td>\n",
       "      <td>By ROSS MCDONAGH FOR DAILYMAIL.COM Published: ...</td>\n",
       "      <td>gossip</td>\n",
       "      <td>1</td>\n",
       "    </tr>\n",
       "    <tr>\n",
       "      <th>2</th>\n",
       "      <td>Quinn Perkins</td>\n",
       "      <td>Quinn Perkins, formerly Lindsay Dwyer, is a fi...</td>\n",
       "      <td>gossip</td>\n",
       "      <td>1</td>\n",
       "    </tr>\n",
       "    <tr>\n",
       "      <th>3</th>\n",
       "      <td>I Tried Kim Kardashian's Butt Workout &amp; Am For...</td>\n",
       "      <td>A community celebrating Black voices, Black ar...</td>\n",
       "      <td>gossip</td>\n",
       "      <td>1</td>\n",
       "    </tr>\n",
       "    <tr>\n",
       "      <th>4</th>\n",
       "      <td>Celine Dion donates concert proceeds to Vegas ...</td>\n",
       "      <td>[Error fetching URL: Connection error for http...</td>\n",
       "      <td>gossip</td>\n",
       "      <td>1</td>\n",
       "    </tr>\n",
       "  </tbody>\n",
       "</table>\n",
       "</div>"
      ],
      "text/plain": [
       "                                               title  \\\n",
       "0  Teen Mom Star Jenelle Evans' Wedding Dress Is ...   \n",
       "1  Kylie Jenner refusing to discuss Tyga on Life ...   \n",
       "2                                      Quinn Perkins   \n",
       "3  I Tried Kim Kardashian's Butt Workout & Am For...   \n",
       "4  Celine Dion donates concert proceeds to Vegas ...   \n",
       "\n",
       "                              extracted_article_text news_type  class  \n",
       "0  91 years of expert advice and inspiration, for...    gossip      1  \n",
       "1  By ROSS MCDONAGH FOR DAILYMAIL.COM Published: ...    gossip      1  \n",
       "2  Quinn Perkins, formerly Lindsay Dwyer, is a fi...    gossip      1  \n",
       "3  A community celebrating Black voices, Black ar...    gossip      1  \n",
       "4  [Error fetching URL: Connection error for http...    gossip      1  "
      ]
     },
     "execution_count": 4,
     "metadata": {},
     "output_type": "execute_result"
    }
   ],
   "source": [
    "# Scrapped from gossipcop_real.csv\n",
    "gossiped_real = pd.read_csv('./dataset/gossip_real_with_article_text.csv')\n",
    "gossiped_real[\"news_type\"] = \"gossip\"\n",
    "gossiped_real[\"class\"] = 1\n",
    "gossiped_real[['title', 'extracted_article_text', 'news_type', 'class']].head()"
   ]
  },
  {
   "cell_type": "code",
   "execution_count": 5,
   "id": "968f4129-bd23-43aa-98a7-fe15ac5b87a5",
   "metadata": {
    "tags": []
   },
   "outputs": [
    {
     "data": {
      "text/html": [
       "<div>\n",
       "<style scoped>\n",
       "    .dataframe tbody tr th:only-of-type {\n",
       "        vertical-align: middle;\n",
       "    }\n",
       "\n",
       "    .dataframe tbody tr th {\n",
       "        vertical-align: top;\n",
       "    }\n",
       "\n",
       "    .dataframe thead th {\n",
       "        text-align: right;\n",
       "    }\n",
       "</style>\n",
       "<table border=\"1\" class=\"dataframe\">\n",
       "  <thead>\n",
       "    <tr style=\"text-align: right;\">\n",
       "      <th></th>\n",
       "      <th>title</th>\n",
       "      <th>extracted_article_text</th>\n",
       "      <th>news_type</th>\n",
       "      <th>class</th>\n",
       "    </tr>\n",
       "  </thead>\n",
       "  <tbody>\n",
       "    <tr>\n",
       "      <th>0</th>\n",
       "      <td>Is Liam Hemsworth Mad At Miley Cyrus For Texti...</td>\n",
       "      <td>Liam Hemsworth is NOT “livid” about Miley Cyru...</td>\n",
       "      <td>gossip</td>\n",
       "      <td>0</td>\n",
       "    </tr>\n",
       "    <tr>\n",
       "      <th>1</th>\n",
       "      <td>Sports Illustrated reveals 2018 Swimsuit cover...</td>\n",
       "      <td>[Error fetching URL: HTTP error 404 for https:...</td>\n",
       "      <td>gossip</td>\n",
       "      <td>1</td>\n",
       "    </tr>\n",
       "    <tr>\n",
       "      <th>2</th>\n",
       "      <td>Married at First Sight (Australian TV series)</td>\n",
       "      <td>Married at First Sight is an Australian realit...</td>\n",
       "      <td>gossip</td>\n",
       "      <td>1</td>\n",
       "    </tr>\n",
       "    <tr>\n",
       "      <th>3</th>\n",
       "      <td>How to Recreate Margot Robbie’s Bent Hair From...</td>\n",
       "      <td>[Error fetching URL: HTTP error 403 for http:/...</td>\n",
       "      <td>gossip</td>\n",
       "      <td>1</td>\n",
       "    </tr>\n",
       "    <tr>\n",
       "      <th>4</th>\n",
       "      <td>Dakota Johnson had to teach Jamie Dornan how t...</td>\n",
       "      <td>[Error fetching URL: HTTP error 404 for http:/...</td>\n",
       "      <td>gossip</td>\n",
       "      <td>1</td>\n",
       "    </tr>\n",
       "  </tbody>\n",
       "</table>\n",
       "</div>"
      ],
      "text/plain": [
       "                                               title  \\\n",
       "0  Is Liam Hemsworth Mad At Miley Cyrus For Texti...   \n",
       "1  Sports Illustrated reveals 2018 Swimsuit cover...   \n",
       "2      Married at First Sight (Australian TV series)   \n",
       "3  How to Recreate Margot Robbie’s Bent Hair From...   \n",
       "4  Dakota Johnson had to teach Jamie Dornan how t...   \n",
       "\n",
       "                              extracted_article_text news_type  class  \n",
       "0  Liam Hemsworth is NOT “livid” about Miley Cyru...    gossip      0  \n",
       "1  [Error fetching URL: HTTP error 404 for https:...    gossip      1  \n",
       "2  Married at First Sight is an Australian realit...    gossip      1  \n",
       "3  [Error fetching URL: HTTP error 403 for http:/...    gossip      1  \n",
       "4  [Error fetching URL: HTTP error 404 for http:/...    gossip      1  "
      ]
     },
     "execution_count": 5,
     "metadata": {},
     "output_type": "execute_result"
    }
   ],
   "source": [
    "# Combine gossip dataset\n",
    "gossip = pd.concat([gossiped_fake, gossiped_real], ignore_index=True)\n",
    "gossip = gossip.sample(frac = 1, random_state=42).reset_index(drop=True)\n",
    "gossip = gossip[['title', 'extracted_article_text', 'news_type', 'class']]\n",
    "gossip.head()"
   ]
  },
  {
   "cell_type": "code",
   "execution_count": 6,
   "id": "c4839766-2681-4160-9ded-fabed19a2fa6",
   "metadata": {
    "tags": []
   },
   "outputs": [
    {
     "data": {
      "text/plain": [
       "(21871, 4)"
      ]
     },
     "execution_count": 6,
     "metadata": {},
     "output_type": "execute_result"
    }
   ],
   "source": [
    "# Check shape before dropping entries whose article text couldn't be scrapped\n",
    "gossip.shape"
   ]
  },
  {
   "cell_type": "code",
   "execution_count": 7,
   "id": "894141b1-6e8a-494d-a1e3-6ad19f17812e",
   "metadata": {
    "tags": []
   },
   "outputs": [
    {
     "name": "stdout",
     "output_type": "stream",
     "text": [
      "<class 'pandas.core.frame.DataFrame'>\n",
      "RangeIndex: 15504 entries, 0 to 15503\n",
      "Data columns (total 4 columns):\n",
      " #   Column                  Non-Null Count  Dtype \n",
      "---  ------                  --------------  ----- \n",
      " 0   title                   15504 non-null  object\n",
      " 1   extracted_article_text  15504 non-null  object\n",
      " 2   news_type               15504 non-null  object\n",
      " 3   class                   15504 non-null  int64 \n",
      "dtypes: int64(1), object(3)\n",
      "memory usage: 484.6+ KB\n"
     ]
    }
   ],
   "source": [
    "# Define the patterns to match\n",
    "error_patterns = [\n",
    "    r'^\\[Error fetching URL:.*',  # Match starting with \"[Error fetching URL:\"\n",
    "    r'^\\[No substantial text found or page structure is unusual for.*'  # Match starting with \"[No substantial text found or page structure is unusual for\"\n",
    "]\n",
    "# Count initial number of rows\n",
    "initial_rows = len(gossip)\n",
    "\n",
    "# Drop rows where 'extracted_article_text' matches any of the error patterns\n",
    "gossip = gossip[\n",
    "    ~gossip['extracted_article_text'].str.match('|'.join(error_patterns), na=False)\n",
    "].reset_index(drop=True)\n",
    "gossip.info()"
   ]
  },
  {
   "cell_type": "code",
   "execution_count": 8,
   "id": "4b4492ff-ddec-428f-a0ad-76c01a702b5e",
   "metadata": {
    "tags": []
   },
   "outputs": [
    {
     "data": {
      "text/plain": [
       "class\n",
       "1    12029\n",
       "0     3475\n",
       "Name: count, dtype: int64"
      ]
     },
     "execution_count": 8,
     "metadata": {},
     "output_type": "execute_result"
    }
   ],
   "source": [
    "gossip['class'].value_counts()"
   ]
  },
  {
   "cell_type": "markdown",
   "id": "25112232-f403-4e84-a1cf-652862be3e2e",
   "metadata": {},
   "source": [
    "### political"
   ]
  },
  {
   "cell_type": "code",
   "execution_count": 9,
   "id": "8e17bef6-db18-4ddb-8f4f-0d7fc3415e4d",
   "metadata": {
    "tags": []
   },
   "outputs": [
    {
     "data": {
      "text/html": [
       "<div>\n",
       "<style scoped>\n",
       "    .dataframe tbody tr th:only-of-type {\n",
       "        vertical-align: middle;\n",
       "    }\n",
       "\n",
       "    .dataframe tbody tr th {\n",
       "        vertical-align: top;\n",
       "    }\n",
       "\n",
       "    .dataframe thead th {\n",
       "        text-align: right;\n",
       "    }\n",
       "</style>\n",
       "<table border=\"1\" class=\"dataframe\">\n",
       "  <thead>\n",
       "    <tr style=\"text-align: right;\">\n",
       "      <th></th>\n",
       "      <th>title</th>\n",
       "      <th>extracted_article_text</th>\n",
       "      <th>news_type</th>\n",
       "      <th>class</th>\n",
       "    </tr>\n",
       "  </thead>\n",
       "  <tbody>\n",
       "    <tr>\n",
       "      <th>0</th>\n",
       "      <td>BREAKING: First NFL Team Declares Bankruptcy O...</td>\n",
       "      <td>[Error fetching URL: HTTP error 404 for https:...</td>\n",
       "      <td>political</td>\n",
       "      <td>0</td>\n",
       "    </tr>\n",
       "    <tr>\n",
       "      <th>1</th>\n",
       "      <td>Court Orders Obama To Pay $400 Million In Rest...</td>\n",
       "      <td>[Error fetching URL: Connection error for http...</td>\n",
       "      <td>political</td>\n",
       "      <td>0</td>\n",
       "    </tr>\n",
       "    <tr>\n",
       "      <th>2</th>\n",
       "      <td>UPDATE: Second Roy Moore Accuser Works For Mic...</td>\n",
       "      <td>Pkv Games adalah salah satu provider judi onli...</td>\n",
       "      <td>political</td>\n",
       "      <td>0</td>\n",
       "    </tr>\n",
       "    <tr>\n",
       "      <th>3</th>\n",
       "      <td>Oscar Pistorius Attempts To Commit Suicide</td>\n",
       "      <td>[Error fetching URL: HTTP error 404 for https:...</td>\n",
       "      <td>political</td>\n",
       "      <td>0</td>\n",
       "    </tr>\n",
       "    <tr>\n",
       "      <th>4</th>\n",
       "      <td>Trump Votes For Death Penalty For Being Gay</td>\n",
       "      <td>Ready or Not Los Suenos Stories RUNE Free Down...</td>\n",
       "      <td>political</td>\n",
       "      <td>0</td>\n",
       "    </tr>\n",
       "  </tbody>\n",
       "</table>\n",
       "</div>"
      ],
      "text/plain": [
       "                                               title  \\\n",
       "0  BREAKING: First NFL Team Declares Bankruptcy O...   \n",
       "1  Court Orders Obama To Pay $400 Million In Rest...   \n",
       "2  UPDATE: Second Roy Moore Accuser Works For Mic...   \n",
       "3         Oscar Pistorius Attempts To Commit Suicide   \n",
       "4        Trump Votes For Death Penalty For Being Gay   \n",
       "\n",
       "                              extracted_article_text  news_type  class  \n",
       "0  [Error fetching URL: HTTP error 404 for https:...  political      0  \n",
       "1  [Error fetching URL: Connection error for http...  political      0  \n",
       "2  Pkv Games adalah salah satu provider judi onli...  political      0  \n",
       "3  [Error fetching URL: HTTP error 404 for https:...  political      0  \n",
       "4  Ready or Not Los Suenos Stories RUNE Free Down...  political      0  "
      ]
     },
     "execution_count": 9,
     "metadata": {},
     "output_type": "execute_result"
    }
   ],
   "source": [
    "# Scrapped from politifact_fake.csv\n",
    "political_fake = pd.read_csv('./dataset/politifact_fake_with_article_text.csv')\n",
    "political_fake[\"news_type\"] = \"political\"\n",
    "political_fake[\"class\"] = 0\n",
    "political_fake[['title', 'extracted_article_text', 'news_type', 'class']].head()"
   ]
  },
  {
   "cell_type": "code",
   "execution_count": 10,
   "id": "adb8bb55-fac9-4838-b64b-2b3ddc5292ff",
   "metadata": {
    "tags": []
   },
   "outputs": [
    {
     "data": {
      "text/html": [
       "<div>\n",
       "<style scoped>\n",
       "    .dataframe tbody tr th:only-of-type {\n",
       "        vertical-align: middle;\n",
       "    }\n",
       "\n",
       "    .dataframe tbody tr th {\n",
       "        vertical-align: top;\n",
       "    }\n",
       "\n",
       "    .dataframe thead th {\n",
       "        text-align: right;\n",
       "    }\n",
       "</style>\n",
       "<table border=\"1\" class=\"dataframe\">\n",
       "  <thead>\n",
       "    <tr style=\"text-align: right;\">\n",
       "      <th></th>\n",
       "      <th>title</th>\n",
       "      <th>extracted_article_text</th>\n",
       "      <th>news_type</th>\n",
       "      <th>class</th>\n",
       "    </tr>\n",
       "  </thead>\n",
       "  <tbody>\n",
       "    <tr>\n",
       "      <th>0</th>\n",
       "      <td>National Federation of Independent Business</td>\n",
       "      <td>[No substantial text found or page structure i...</td>\n",
       "      <td>political</td>\n",
       "      <td>1</td>\n",
       "    </tr>\n",
       "    <tr>\n",
       "      <th>1</th>\n",
       "      <td>comments in Fayetteville NC</td>\n",
       "      <td>CQ Username Password Stay signed in Forgot you...</td>\n",
       "      <td>political</td>\n",
       "      <td>1</td>\n",
       "    </tr>\n",
       "    <tr>\n",
       "      <th>2</th>\n",
       "      <td>Romney makes pitch, hoping to close deal : Ele...</td>\n",
       "      <td>Photo by Matt McClain Governor Mitt Romney stu...</td>\n",
       "      <td>political</td>\n",
       "      <td>1</td>\n",
       "    </tr>\n",
       "    <tr>\n",
       "      <th>3</th>\n",
       "      <td>Democratic Leaders Say House Democrats Are Uni...</td>\n",
       "      <td>Transcript of Press Availability After House D...</td>\n",
       "      <td>political</td>\n",
       "      <td>1</td>\n",
       "    </tr>\n",
       "    <tr>\n",
       "      <th>4</th>\n",
       "      <td>Budget of the United States Government, FY 2008</td>\n",
       "      <td>The President’s 2008 Budget addresses the Nati...</td>\n",
       "      <td>political</td>\n",
       "      <td>1</td>\n",
       "    </tr>\n",
       "  </tbody>\n",
       "</table>\n",
       "</div>"
      ],
      "text/plain": [
       "                                               title  \\\n",
       "0        National Federation of Independent Business   \n",
       "1                        comments in Fayetteville NC   \n",
       "2  Romney makes pitch, hoping to close deal : Ele...   \n",
       "3  Democratic Leaders Say House Democrats Are Uni...   \n",
       "4    Budget of the United States Government, FY 2008   \n",
       "\n",
       "                              extracted_article_text  news_type  class  \n",
       "0  [No substantial text found or page structure i...  political      1  \n",
       "1  CQ Username Password Stay signed in Forgot you...  political      1  \n",
       "2  Photo by Matt McClain Governor Mitt Romney stu...  political      1  \n",
       "3  Transcript of Press Availability After House D...  political      1  \n",
       "4  The President’s 2008 Budget addresses the Nati...  political      1  "
      ]
     },
     "execution_count": 10,
     "metadata": {},
     "output_type": "execute_result"
    }
   ],
   "source": [
    "# Scrapped from politifact_real.csv\n",
    "political_real = pd.read_csv('./dataset/politifact_real_with_article_text.csv')\n",
    "political_real[\"news_type\"] = \"political\"\n",
    "political_real[\"class\"] = 1\n",
    "political_real[['title', 'extracted_article_text', 'news_type', 'class']].head()"
   ]
  },
  {
   "cell_type": "code",
   "execution_count": 11,
   "id": "e33e9f5d-02d7-41bb-896b-1efca549036a",
   "metadata": {
    "tags": []
   },
   "outputs": [
    {
     "data": {
      "text/html": [
       "<div>\n",
       "<style scoped>\n",
       "    .dataframe tbody tr th:only-of-type {\n",
       "        vertical-align: middle;\n",
       "    }\n",
       "\n",
       "    .dataframe tbody tr th {\n",
       "        vertical-align: top;\n",
       "    }\n",
       "\n",
       "    .dataframe thead th {\n",
       "        text-align: right;\n",
       "    }\n",
       "</style>\n",
       "<table border=\"1\" class=\"dataframe\">\n",
       "  <thead>\n",
       "    <tr style=\"text-align: right;\">\n",
       "      <th></th>\n",
       "      <th>title</th>\n",
       "      <th>extracted_article_text</th>\n",
       "      <th>news_type</th>\n",
       "      <th>class</th>\n",
       "    </tr>\n",
       "  </thead>\n",
       "  <tbody>\n",
       "    <tr>\n",
       "      <th>0</th>\n",
       "      <td>Transcripts</td>\n",
       "      <td>[Error fetching URL: General request error for...</td>\n",
       "      <td>political</td>\n",
       "      <td>1</td>\n",
       "    </tr>\n",
       "    <tr>\n",
       "      <th>1</th>\n",
       "      <td>National Income and Product Accounts Table 175...</td>\n",
       "      <td>[Error fetching URL: HTTP error 404 for http:/...</td>\n",
       "      <td>political</td>\n",
       "      <td>1</td>\n",
       "    </tr>\n",
       "    <tr>\n",
       "      <th>2</th>\n",
       "      <td>Saudi Arabia Energy Data, Statistics and Analysis</td>\n",
       "      <td>[No substantial text found or page structure i...</td>\n",
       "      <td>political</td>\n",
       "      <td>1</td>\n",
       "    </tr>\n",
       "    <tr>\n",
       "      <th>3</th>\n",
       "      <td>If Democrats Lose, Blame These Guys</td>\n",
       "      <td>[Error fetching URL: HTTP error 403 for http:/...</td>\n",
       "      <td>political</td>\n",
       "      <td>1</td>\n",
       "    </tr>\n",
       "    <tr>\n",
       "      <th>4</th>\n",
       "      <td>FY 2010 President's Budget</td>\n",
       "      <td>Historical Tables provides data on budget rece...</td>\n",
       "      <td>political</td>\n",
       "      <td>1</td>\n",
       "    </tr>\n",
       "  </tbody>\n",
       "</table>\n",
       "</div>"
      ],
      "text/plain": [
       "                                               title  \\\n",
       "0                                        Transcripts   \n",
       "1  National Income and Product Accounts Table 175...   \n",
       "2  Saudi Arabia Energy Data, Statistics and Analysis   \n",
       "3                If Democrats Lose, Blame These Guys   \n",
       "4                         FY 2010 President's Budget   \n",
       "\n",
       "                              extracted_article_text  news_type  class  \n",
       "0  [Error fetching URL: General request error for...  political      1  \n",
       "1  [Error fetching URL: HTTP error 404 for http:/...  political      1  \n",
       "2  [No substantial text found or page structure i...  political      1  \n",
       "3  [Error fetching URL: HTTP error 403 for http:/...  political      1  \n",
       "4  Historical Tables provides data on budget rece...  political      1  "
      ]
     },
     "execution_count": 11,
     "metadata": {},
     "output_type": "execute_result"
    }
   ],
   "source": [
    "# Combine political dataset\n",
    "political = pd.concat([political_fake, political_real], ignore_index=True)\n",
    "political = political.sample(frac = 1, random_state=42).reset_index(drop=True)\n",
    "political = political[['title', 'extracted_article_text', 'news_type', 'class']]\n",
    "political.head()"
   ]
  },
  {
   "cell_type": "code",
   "execution_count": 12,
   "id": "18b4fc5a-6c35-42f5-a190-3716fa6646ba",
   "metadata": {
    "tags": []
   },
   "outputs": [
    {
     "data": {
      "text/plain": [
       "(995, 4)"
      ]
     },
     "execution_count": 12,
     "metadata": {},
     "output_type": "execute_result"
    }
   ],
   "source": [
    "# Check shape before dropping entries whose article text couldn't be scrapped\n",
    "political.shape"
   ]
  },
  {
   "cell_type": "code",
   "execution_count": 13,
   "id": "4aff7f81-7567-4fdc-b705-64cd6e666203",
   "metadata": {
    "tags": []
   },
   "outputs": [
    {
     "name": "stdout",
     "output_type": "stream",
     "text": [
      "<class 'pandas.core.frame.DataFrame'>\n",
      "RangeIndex: 540 entries, 0 to 539\n",
      "Data columns (total 4 columns):\n",
      " #   Column                  Non-Null Count  Dtype \n",
      "---  ------                  --------------  ----- \n",
      " 0   title                   540 non-null    object\n",
      " 1   extracted_article_text  540 non-null    object\n",
      " 2   news_type               540 non-null    object\n",
      " 3   class                   540 non-null    int64 \n",
      "dtypes: int64(1), object(3)\n",
      "memory usage: 17.0+ KB\n"
     ]
    }
   ],
   "source": [
    "# Define the patterns to match\n",
    "error_patterns = [\n",
    "    r'^\\[Error fetching URL:.*',  # Match starting with [Error fetching URL:\n",
    "    r'^\\[No substantial text found or page structure is unusual for.*'  # Match starting with [No substantial text found or page structure is unusual for\n",
    "]\n",
    "# Count initial number of rows\n",
    "initial_rows = len(political)\n",
    "\n",
    "# Drop rows where 'extracted_article_text' matches any of the error patterns\n",
    "political = political[\n",
    "    ~political['extracted_article_text'].str.match('|'.join(error_patterns), na=False)\n",
    "].reset_index(drop=True)\n",
    "political.info()"
   ]
  },
  {
   "cell_type": "code",
   "execution_count": 14,
   "id": "efa7cd58-362d-4ebd-bba7-55b0bdb5fa01",
   "metadata": {
    "tags": []
   },
   "outputs": [
    {
     "data": {
      "text/plain": [
       "class\n",
       "1    346\n",
       "0    194\n",
       "Name: count, dtype: int64"
      ]
     },
     "execution_count": 14,
     "metadata": {},
     "output_type": "execute_result"
    }
   ],
   "source": [
    "political['class'].value_counts()"
   ]
  },
  {
   "cell_type": "markdown",
   "id": "45746fa4-b461-4122-9f56-8049745cb412",
   "metadata": {
    "tags": []
   },
   "source": [
    "### Combine political and gossip "
   ]
  },
  {
   "cell_type": "code",
   "execution_count": 15,
   "id": "f6f5702b-0e03-4900-8c69-e40d14521aca",
   "metadata": {
    "tags": []
   },
   "outputs": [
    {
     "data": {
      "text/html": [
       "<div>\n",
       "<style scoped>\n",
       "    .dataframe tbody tr th:only-of-type {\n",
       "        vertical-align: middle;\n",
       "    }\n",
       "\n",
       "    .dataframe tbody tr th {\n",
       "        vertical-align: top;\n",
       "    }\n",
       "\n",
       "    .dataframe thead th {\n",
       "        text-align: right;\n",
       "    }\n",
       "</style>\n",
       "<table border=\"1\" class=\"dataframe\">\n",
       "  <thead>\n",
       "    <tr style=\"text-align: right;\">\n",
       "      <th></th>\n",
       "      <th>title</th>\n",
       "      <th>extracted_article_text</th>\n",
       "      <th>news_type</th>\n",
       "      <th>class</th>\n",
       "    </tr>\n",
       "  </thead>\n",
       "  <tbody>\n",
       "    <tr>\n",
       "      <th>0</th>\n",
       "      <td>Will 'The Royals' Return For Season 5? This St...</td>\n",
       "      <td>Entertainment With a royal wedding and a coup ...</td>\n",
       "      <td>gossip</td>\n",
       "      <td>1</td>\n",
       "    </tr>\n",
       "    <tr>\n",
       "      <th>1</th>\n",
       "      <td>Naya Rivera refiles for divorce from Ryan Dors...</td>\n",
       "      <td>This material may not be published, broadcast,...</td>\n",
       "      <td>gossip</td>\n",
       "      <td>1</td>\n",
       "    </tr>\n",
       "    <tr>\n",
       "      <th>2</th>\n",
       "      <td>Outfit ideas for Taylor Swift's Reputation Tour</td>\n",
       "      <td>United By Pop - United Kingdom. United States....</td>\n",
       "      <td>gossip</td>\n",
       "      <td>1</td>\n",
       "    </tr>\n",
       "    <tr>\n",
       "      <th>3</th>\n",
       "      <td>Scott Hutchison Dead: Frightened Rabbit Frontm...</td>\n",
       "      <td>By Robert Mitchell A body found Thursday night...</td>\n",
       "      <td>gossip</td>\n",
       "      <td>1</td>\n",
       "    </tr>\n",
       "    <tr>\n",
       "      <th>4</th>\n",
       "      <td>Kate Middleton Gives Birth to Royal Baby No. 3...</td>\n",
       "      <td>Baby No. 3 is officially here! Kate Middleton ...</td>\n",
       "      <td>gossip</td>\n",
       "      <td>1</td>\n",
       "    </tr>\n",
       "    <tr>\n",
       "      <th>5</th>\n",
       "      <td>Khloe Kardashian: True Has 'Baby Class Once a ...</td>\n",
       "      <td>\"It's so fun to see how they all interact and ...</td>\n",
       "      <td>gossip</td>\n",
       "      <td>0</td>\n",
       "    </tr>\n",
       "    <tr>\n",
       "      <th>6</th>\n",
       "      <td>Lena Dunham Mourns the Death of Her Cat Gia Ma...</td>\n",
       "      <td>Lena Dunham's beloved cat Gia Marie died in he...</td>\n",
       "      <td>gossip</td>\n",
       "      <td>1</td>\n",
       "    </tr>\n",
       "    <tr>\n",
       "      <th>7</th>\n",
       "      <td>Tim McGraw collapses on stage in Ireland</td>\n",
       "      <td>Country star Tim McGraw collapsed on stage dur...</td>\n",
       "      <td>gossip</td>\n",
       "      <td>1</td>\n",
       "    </tr>\n",
       "    <tr>\n",
       "      <th>8</th>\n",
       "      <td>Star Wars Fans Show Up for 'Solo' Red Carpet i...</td>\n",
       "      <td>Hollywood Boulevard was shutdown at Highland T...</td>\n",
       "      <td>gossip</td>\n",
       "      <td>1</td>\n",
       "    </tr>\n",
       "    <tr>\n",
       "      <th>9</th>\n",
       "      <td>Jessica Simpson insists she's not pregnant on ...</td>\n",
       "      <td>By DAILYMAIL.COM REPORTER Published: 14:49 BST...</td>\n",
       "      <td>gossip</td>\n",
       "      <td>1</td>\n",
       "    </tr>\n",
       "  </tbody>\n",
       "</table>\n",
       "</div>"
      ],
      "text/plain": [
       "                                               title  \\\n",
       "0  Will 'The Royals' Return For Season 5? This St...   \n",
       "1  Naya Rivera refiles for divorce from Ryan Dors...   \n",
       "2    Outfit ideas for Taylor Swift's Reputation Tour   \n",
       "3  Scott Hutchison Dead: Frightened Rabbit Frontm...   \n",
       "4  Kate Middleton Gives Birth to Royal Baby No. 3...   \n",
       "5  Khloe Kardashian: True Has 'Baby Class Once a ...   \n",
       "6  Lena Dunham Mourns the Death of Her Cat Gia Ma...   \n",
       "7           Tim McGraw collapses on stage in Ireland   \n",
       "8  Star Wars Fans Show Up for 'Solo' Red Carpet i...   \n",
       "9  Jessica Simpson insists she's not pregnant on ...   \n",
       "\n",
       "                              extracted_article_text news_type  class  \n",
       "0  Entertainment With a royal wedding and a coup ...    gossip      1  \n",
       "1  This material may not be published, broadcast,...    gossip      1  \n",
       "2  United By Pop - United Kingdom. United States....    gossip      1  \n",
       "3  By Robert Mitchell A body found Thursday night...    gossip      1  \n",
       "4  Baby No. 3 is officially here! Kate Middleton ...    gossip      1  \n",
       "5  \"It's so fun to see how they all interact and ...    gossip      0  \n",
       "6  Lena Dunham's beloved cat Gia Marie died in he...    gossip      1  \n",
       "7  Country star Tim McGraw collapsed on stage dur...    gossip      1  \n",
       "8  Hollywood Boulevard was shutdown at Highland T...    gossip      1  \n",
       "9  By DAILYMAIL.COM REPORTER Published: 14:49 BST...    gossip      1  "
      ]
     },
     "execution_count": 15,
     "metadata": {},
     "output_type": "execute_result"
    }
   ],
   "source": [
    "# Combine political and gossip datasets\n",
    "data = pd.concat([political, gossip], ignore_index=True)\n",
    "data = data.sample(frac = 1, random_state=42).reset_index(drop=True)\n",
    "data.head(10)"
   ]
  },
  {
   "cell_type": "code",
   "execution_count": 25,
   "id": "e7158dc2-c802-44ff-b611-c9d202dd7174",
   "metadata": {
    "tags": []
   },
   "outputs": [
    {
     "data": {
      "text/plain": [
       "'Looks like Blac Chyna and \"hot felon\" Jeremy Meeks may have something in the works together. Chyna shared a picture of the two posing with their arms around one another on Snapchat on Wednesday night, both showing off their tattoos. Chyna donned a skintight lace-up orange dress, while Meeks kept it casual in a camouflage-print shirt and ripped jeans. News In earlier Snapchat posts, Chyna appears to be at a photo shoot, leading some to speculate the two are possibly starring in a campaign together. Meeks, who became a model after his attractive mugshot went viral in 2014, has made headlines this summer due to his relationship with Topshop heiress Chloe Green. Meeks was photographed kissing Green on a luxury yacht just off the coast of Turkey in July, though he was still married to his wife, Melissa, at the time. Shortly after the pictures surfaced, Meeks filed for separation from Melissa, after eight years of marriage. News Since then, Meeks and Green haven\\'t been shy about packing on the PDA. Watch below: Video'"
      ]
     },
     "execution_count": 25,
     "metadata": {},
     "output_type": "execute_result"
    }
   ],
   "source": [
    "data.iloc[99, 1]"
   ]
  },
  {
   "cell_type": "code",
   "execution_count": 17,
   "id": "5b04989f-3d96-42e2-a51b-4a02900353a0",
   "metadata": {
    "tags": []
   },
   "outputs": [
    {
     "data": {
      "text/plain": [
       "(16044, 4)"
      ]
     },
     "execution_count": 17,
     "metadata": {},
     "output_type": "execute_result"
    }
   ],
   "source": [
    "# Check shape of working dataset\n",
    "data.shape"
   ]
  },
  {
   "cell_type": "code",
   "execution_count": 18,
   "id": "9455b0b5-bf5e-49a2-973c-09921365b0dd",
   "metadata": {
    "tags": []
   },
   "outputs": [
    {
     "data": {
      "text/plain": [
       "news_type\n",
       "gossip       15504\n",
       "political      540\n",
       "Name: count, dtype: int64"
      ]
     },
     "execution_count": 18,
     "metadata": {},
     "output_type": "execute_result"
    }
   ],
   "source": [
    "data['news_type'].value_counts()"
   ]
  },
  {
   "cell_type": "code",
   "execution_count": 19,
   "id": "c300d559-8bb4-42f9-afcb-963bf058fe1a",
   "metadata": {
    "tags": []
   },
   "outputs": [
    {
     "data": {
      "text/plain": [
       "class\n",
       "1    12375\n",
       "0     3669\n",
       "Name: count, dtype: int64"
      ]
     },
     "execution_count": 19,
     "metadata": {},
     "output_type": "execute_result"
    }
   ],
   "source": [
    "data['class'].value_counts()"
   ]
  },
  {
   "cell_type": "code",
   "execution_count": 20,
   "id": "b227e48a-5156-49d8-a714-08718d7e1140",
   "metadata": {
    "tags": []
   },
   "outputs": [],
   "source": [
    "# Export scrapped data to .csv\n",
    "data.to_csv('./dataset/data.csv', index=False)"
   ]
  },
  {
   "cell_type": "code",
   "execution_count": 21,
   "id": "169dbb1c-3007-4170-9b30-94ec1420dc72",
   "metadata": {
    "tags": []
   },
   "outputs": [
    {
     "data": {
      "image/png": "[encoded data removed]",
      "text/plain": [
       "<Figure size 800x600 with 1 Axes>"
      ]
     },
     "metadata": {},
     "output_type": "display_data"
    }
   ],
   "source": [
    "# Visualize distribuction based on class (0 = fake, 1 = real)\n",
    "plt.figure(figsize=(8, 6))\n",
    "sns.barplot(x='class', y='class', data=data, estimator=len, hue='class', palette=['#FF9999', '#66B2FF'], legend=False)\n",
    "\n",
    "# Add labels and title\n",
    "plt.xlabel('Class')\n",
    "plt.ylabel('Count')\n",
    "plt.title('Distribution of Class Feature')\n",
    "\n",
    "# Display the plot\n",
    "plt.show()"
   ]
  },
  {
   "cell_type": "code",
   "execution_count": null,
   "id": "1d02de2d-8271-4c36-8b96-84b4e0600faa",
   "metadata": {},
   "outputs": [],
   "source": []
  },
  {
   "cell_type": "code",
   "execution_count": null,
   "id": "7e6b1b94-7651-45c0-a49a-8bbad32e0ee6",
   "metadata": {},
   "outputs": [],
   "source": []
  },
  {
   "cell_type": "code",
   "execution_count": null,
   "id": "cb13231c-66ae-4568-bd76-269446255c5c",
   "metadata": {},
   "outputs": [],
   "source": []
  },
  {
   "cell_type": "code",
   "execution_count": null,
   "id": "4ab36a3c-e567-4f39-a72c-6679f5aa3a6e",
   "metadata": {},
   "outputs": [],
   "source": []
  },
  {
   "cell_type": "code",
   "execution_count": null,
   "id": "145862ea-d11f-4440-aab0-c88585aaa91a",
   "metadata": {},
   "outputs": [],
   "source": []
  },
  {
   "cell_type": "code",
   "execution_count": null,
   "id": "ace87a5b-91a4-4c49-a93f-a437c2181683",
   "metadata": {},
   "outputs": [],
   "source": []
  },
  {
   "cell_type": "code",
   "execution_count": null,
   "id": "0c8edf66-58b0-4d07-9dee-cfe81e1a926e",
   "metadata": {},
   "outputs": [],
   "source": []
  },
  {
   "cell_type": "code",
   "execution_count": null,
   "id": "01be4ca6-1e4b-4b8d-89b2-a28cfe10995d",
   "metadata": {},
   "outputs": [],
   "source": []
  },
  {
   "cell_type": "code",
   "execution_count": null,
   "id": "bc768717-d4c3-4121-bcc8-bcbacd6e6feb",
   "metadata": {},
   "outputs": [],
   "source": []
  },
  {
   "cell_type": "code",
   "execution_count": null,
   "id": "2d34df0e-9708-4fe1-ae5f-16e2d5f497e7",
   "metadata": {},
   "outputs": [],
   "source": []
  },
  {
   "cell_type": "code",
   "execution_count": null,
   "id": "05708db9-c1c9-4a4c-a875-d06da93ae1f7",
   "metadata": {},
   "outputs": [],
   "source": []
  }
 ],
 "metadata": {
  "kernelspec": {
   "display_name": "(dan-venv)",
   "language": "python",
   "name": "dan-venv"
  },
  "language_info": {
   "codemirror_mode": {
    "name": "ipython",
    "version": 3
   },
   "file_extension": ".py",
   "mimetype": "text/x-python",
   "name": "python",
   "nbconvert_exporter": "python",
   "pygments_lexer": "ipython3",
   "version": "3.12.7"
  }
 },
 "nbformat": 4,
 "nbformat_minor": 5
}
