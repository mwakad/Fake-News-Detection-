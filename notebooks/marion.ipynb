{
 "cells": [
  {
   "cell_type": "markdown",
   "id": "d4b9f5f1",
   "metadata": {},
   "source": [
    "# Fake News Detection\n",
    "**Name:** Marion Osong\n",
    "\n",
    "**Group:** Group 2B"
   ]
  }
 ],
 "metadata": {
  "language_info": {
   "name": "python"
  }
 },
 "nbformat": 4,
 "nbformat_minor": 5
}
