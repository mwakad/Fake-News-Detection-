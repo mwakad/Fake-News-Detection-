{
 "cells": [
  {
   "cell_type": "markdown",
   "id": "7abb1811",
   "metadata": {},
   "source": [
    "# Fake News Detection\n",
    "**Name:** Daniel Mwaka\n",
    "\n",
    "**Group:** Group 2B"
   ]
  },
  {
   "cell_type": "markdown",
   "id": "b810f7c4",
   "metadata": {},
   "source": [
    "## Introduction"
   ]
  },
  {
   "cell_type": "markdown",
   "id": "d319a242",
   "metadata": {},
   "source": []
  },
  {
   "cell_type": "markdown",
   "id": "58166c02",
   "metadata": {},
   "source": [
    "## Data Preprocessing"
   ]
  },
  {
   "cell_type": "code",
   "execution_count": 1,
   "id": "e25ca139",
   "metadata": {},
   "outputs": [],
   "source": [
    "import pandas as pd"
   ]
  },
  {
   "cell_type": "code",
   "execution_count": 2,
   "id": "fceee080",
   "metadata": {},
   "outputs": [
    {
     "data": {
      "text/html": [
       "<div>\n",
       "<style scoped>\n",
       "    .dataframe tbody tr th:only-of-type {\n",
       "        vertical-align: middle;\n",
       "    }\n",
       "\n",
       "    .dataframe tbody tr th {\n",
       "        vertical-align: top;\n",
       "    }\n",
       "\n",
       "    .dataframe thead th {\n",
       "        text-align: right;\n",
       "    }\n",
       "</style>\n",
       "<table border=\"1\" class=\"dataframe\">\n",
       "  <thead>\n",
       "    <tr style=\"text-align: right;\">\n",
       "      <th></th>\n",
       "      <th>title</th>\n",
       "      <th>extracted_article_text</th>\n",
       "      <th>news_type</th>\n",
       "      <th>class</th>\n",
       "    </tr>\n",
       "  </thead>\n",
       "  <tbody>\n",
       "    <tr>\n",
       "      <th>0</th>\n",
       "      <td>Will 'The Royals' Return For Season 5? This St...</td>\n",
       "      <td>Entertainment With a royal wedding and a coup ...</td>\n",
       "      <td>gossip</td>\n",
       "      <td>1</td>\n",
       "    </tr>\n",
       "    <tr>\n",
       "      <th>1</th>\n",
       "      <td>Naya Rivera refiles for divorce from Ryan Dors...</td>\n",
       "      <td>This material may not be published, broadcast,...</td>\n",
       "      <td>gossip</td>\n",
       "      <td>1</td>\n",
       "    </tr>\n",
       "    <tr>\n",
       "      <th>2</th>\n",
       "      <td>Outfit ideas for Taylor Swift's Reputation Tour</td>\n",
       "      <td>United By Pop - United Kingdom. United States....</td>\n",
       "      <td>gossip</td>\n",
       "      <td>1</td>\n",
       "    </tr>\n",
       "    <tr>\n",
       "      <th>3</th>\n",
       "      <td>Scott Hutchison Dead: Frightened Rabbit Frontm...</td>\n",
       "      <td>By Robert Mitchell A body found Thursday night...</td>\n",
       "      <td>gossip</td>\n",
       "      <td>1</td>\n",
       "    </tr>\n",
       "    <tr>\n",
       "      <th>4</th>\n",
       "      <td>Kate Middleton Gives Birth to Royal Baby No. 3...</td>\n",
       "      <td>Baby No. 3 is officially here! Kate Middleton ...</td>\n",
       "      <td>gossip</td>\n",
       "      <td>1</td>\n",
       "    </tr>\n",
       "  </tbody>\n",
       "</table>\n",
       "</div>"
      ],
      "text/plain": [
       "                                               title  \\\n",
       "0  Will 'The Royals' Return For Season 5? This St...   \n",
       "1  Naya Rivera refiles for divorce from Ryan Dors...   \n",
       "2    Outfit ideas for Taylor Swift's Reputation Tour   \n",
       "3  Scott Hutchison Dead: Frightened Rabbit Frontm...   \n",
       "4  Kate Middleton Gives Birth to Royal Baby No. 3...   \n",
       "\n",
       "                              extracted_article_text news_type  class  \n",
       "0  Entertainment With a royal wedding and a coup ...    gossip      1  \n",
       "1  This material may not be published, broadcast,...    gossip      1  \n",
       "2  United By Pop - United Kingdom. United States....    gossip      1  \n",
       "3  By Robert Mitchell A body found Thursday night...    gossip      1  \n",
       "4  Baby No. 3 is officially here! Kate Middleton ...    gossip      1  "
      ]
     },
     "execution_count": 2,
     "metadata": {},
     "output_type": "execute_result"
    }
   ],
   "source": [
    "data = pd.read_csv(\"/home/trigger/Desktop/Fake-News-Detection-/dataset/data.csv\")\n",
    "data.head()"
   ]
  }
 ],
 "metadata": {
  "kernelspec": {
   "display_name": "learn-env",
   "language": "python",
   "name": "python3"
  },
  "language_info": {
   "codemirror_mode": {
    "name": "ipython",
    "version": 3
   },
   "file_extension": ".py",
   "mimetype": "text/x-python",
   "name": "python",
   "nbconvert_exporter": "python",
   "pygments_lexer": "ipython3",
   "version": "3.8.5"
  }
 },
 "nbformat": 4,
 "nbformat_minor": 5
}
