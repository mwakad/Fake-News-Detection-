{
 "cells": [
  {
   "cell_type": "markdown",
   "id": "ab4f6b76",
   "metadata": {},
   "source": [
    "# Fake News Detection\n",
    "**Name:** Abdirahman Yussuf\n",
    "\n",
    "**Group:** Group 2B"
   ]
  }
 ],
 "metadata": {
  "language_info": {
   "name": "python"
  }
 },
 "nbformat": 4,
 "nbformat_minor": 5
}
