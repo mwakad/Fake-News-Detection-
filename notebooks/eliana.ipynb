{
 "cells": [
  {
   "cell_type": "markdown",
   "id": "e799fc00",
   "metadata": {},
   "source": [
    "# Fake News Detection\n",
    "**Name:** Eliana Kariuki\n",
    "\n",
    "**Group:** Group 2B"
   ]
  }
 ],
 "metadata": {
  "language_info": {
   "name": "python"
  }
 },
 "nbformat": 4,
 "nbformat_minor": 5
}
